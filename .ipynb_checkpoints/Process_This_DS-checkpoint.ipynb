{
 "cells": [
  {
   "cell_type": "markdown",
   "metadata": {
    "collapsed": true
   },
   "source": [
    "# Process This Data Set!!!"
   ]
  },
  {
   "cell_type": "markdown",
   "metadata": {},
   "source": [
    "## This is my process. Please try using it on the data set in this repo\n",
    "\n",
    "### Step 1. Describe data source - where did data come from? How was it created? Describe the source. Identify weak points in how the data was obtained\n",
    "\n",
    "### Step 2: Describe Data Columns:\n",
    "#### a.  What are all the data columns in this data set?  \n",
    "#### b.  How many records?\n",
    "#### c.  What are the column data types?\n",
    "#### d.  What's the data range (What is the max value? What is the min value? Whats the mean value?)\n",
    "\n",
    "### Step 3: Cleanup data (as needed)\n",
    "#### a. Convert data values to useable formats (e.g. dates may be given as strings, convert to date type).\n",
    "#### b. Convert column names to more useful names\n",
    "\n",
    "### Step 4: Univariate Plots\n",
    "#### a. For each column, do a univariate type data plot: histogram, bar chart, etc.\n",
    "#### b. Display 10 highest and lowest value rows\n",
    "\n",
    "### Step 5: Multivariate Plots & Analysis\n",
    "#### a. Plot 2 columns against each other using scatter plots, bar chart, etc.\n",
    "       If data is timeseries then plot each column agains the date time."
   ]
  },
  {
   "cell_type": "markdown",
   "metadata": {},
   "source": [
    "## This is my data set. Please process it:\n",
    "### Description: Yale Dept of Economics: S&P 500 data (YALE/SPCOMP)\n",
    "\n"
   ]
  }
 ],
 "metadata": {
  "kernelspec": {
   "display_name": "R",
   "language": "R",
   "name": "ir"
  },
  "language_info": {
   "codemirror_mode": "r",
   "file_extension": ".r",
   "mimetype": "text/x-r-source",
   "name": "R",
   "pygments_lexer": "r",
   "version": "3.4.2"
  }
 },
 "nbformat": 4,
 "nbformat_minor": 2
}
